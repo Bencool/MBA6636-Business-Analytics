{
  "cells": [
    {
      "attachments": {},
      "cell_type": "markdown",
      "metadata": {
        "cell_id": "019aee00cfb84152997738fb92b13225",
        "deepnote_cell_type": "markdown",
        "id": "l5PVJwG9esKH",
        "tags": []
      },
      "source": [
        "<img src = \"https://raw.githubusercontent.com/Bencool/MBA6636-Business-Analytics/main/research/G02%20NumPy%20and%20Matplotlib%20-%20Group%203/images/numpy_matplotlib.png\" alt = \"NumPy Matplotlib\" width = 800  />\n",
        "\n",
        "# G02 NumPy and Matplotlib - Group 3\n",
        "**Bin Liao, Lijie Yang, Ziying Xu**\n",
        "\n",
        "In this assignment, you will work collaboratively with your group members to complete tasks listed in this notebook. Each of you will take ownership of any one set and solve it. Any data file required for the assignment is available in the GitHub folder. You are expected to study how other group members solved their set. It will help solve the subsequent I02 assignment. Please include your name in the respective header section to indicate which problem has been solved by you. You can discuss any difficulties you faced in solving the assignment with your group members or post it on the TEAMS.\n",
        "\n",
        "**How to submit your assignment?**\n",
        "Each one of you will submit the link to the workspace URL of your group as your submission on the D2L portal.\n",
        "\n",
        "Note:\n",
        "You are not required to replicate the text from the links, but a brief description in your own words is expected to describe what you are doing in the code cell.\n",
        "There is no rubric for this assignment. 2/3 weightage is for solving the problem and 1/3 will be for group performance. Group performance marks are assigned if all members submit their assignment before due the date.\n",
        "The group performance score component will not be changed even on resubmission so it is collective responsibility of the group to ensure everyone submits their solution before due date."
      ]
    },
    {
      "cell_type": "code",
      "execution_count": 1,
      "metadata": {
        "cell_id": "09a07bb1811041d79bc740fffa101ab1",
        "deepnote_cell_type": "code",
        "deepnote_to_be_reexecuted": false,
        "execution_millis": 534,
        "execution_start": 1685375163298,
        "id": "Ody2QiUEesKR",
        "source_hash": "4e1e59f7",
        "tags": []
      },
      "outputs": [],
      "source": [
        "import numpy as np\n",
        "import pandas as pd\n",
        "import matplotlib.pyplot as plt\n",
        "%matplotlib inline"
      ]
    },
    {
      "cell_type": "markdown",
      "metadata": {
        "cell_id": "1469aeb699cd4047b889829677cb0b13",
        "deepnote_cell_type": "markdown",
        "id": "1rFtbfJVesKU",
        "tags": []
      },
      "source": [
        "## Set 1 (Lijie Yang)\n"
      ]
    },
    {
      "cell_type": "markdown",
      "metadata": {
        "cell_id": "fc5c38728a3447338614738f71008df8",
        "deepnote_cell_type": "markdown",
        "id": "OrMsjDZNesKV",
        "tags": []
      },
      "source": [
        "1. Import the first nine columns of mercedes.csv in a dataframe. Perform one-hot-encoding on 10 most frequent labels in the variables X1 to X6. Label each of the column as variablename_label. For e.g. X1 is a variable with labels a, b, c. Then the one-hot-encoded column names will be X1_a, X1_b, and X1_c\n",
        "Hint: You will be creating 49 one-hot-encoded variables in total and the final dataframe will have 9 + 49 = 58 columns."
      ]
    },
    {
      "cell_type": "code",
      "execution_count": 2,
      "metadata": {
        "cell_id": "95499ce653914762a4bd012abe6a36c5",
        "colab": {
          "base_uri": "https://localhost:8080/"
        },
        "deepnote_cell_type": "code",
        "deepnote_to_be_reexecuted": false,
        "execution_millis": 271,
        "execution_start": 1685375163839,
        "id": "JLNyJYkEesKW",
        "outputId": "62dee372-d3c7-4e13-8e65-1ff4ee25aa44",
        "source_hash": "9f208dcb",
        "tags": []
      },
      "outputs": [
        {
          "name": "stdout",
          "output_type": "stream",
          "text": [
            "   ID       y  X0 X1  X2 X3 X4 X5 X6  y_y  ...  X3_X3  X3_X4  X3_X2  X3_X0  \\\n",
            "0   0  130.81   k  v  at  a  d  u  j    0  ...      0      0      0      0   \n",
            "1   6   88.53   k  t  av  e  d  y  l    0  ...      0      0      0      0   \n",
            "2   7   76.26  az  w   n  c  d  x  j    0  ...      0      0      0      0   \n",
            "3   9   80.62  az  t   n  f  d  x  l    0  ...      0      0      0      0   \n",
            "4  13   78.02  az  v   n  f  d  h  d    0  ...      0      0      0      0   \n",
            "\n",
            "   X4_y  X4_X1  X4_X3  X4_X4  X4_X2  X4_X0  \n",
            "0     0      0      0      0      0      0  \n",
            "1     0      0      0      0      0      0  \n",
            "2     0      0      0      0      0      0  \n",
            "3     0      0      0      0      0      0  \n",
            "4     0      0      0      0      0      0  \n",
            "\n",
            "[5 rows x 45 columns]\n"
          ]
        }
      ],
      "source": [
        "import pandas as pd\n",
        "\n",
        "# Import the first nine columns of mercedes.csv in a dataframe\n",
        "df = pd.read_csv('https://raw.githubusercontent.com/dearbharat/datasets/main/mercedes.csv', usecols=range(9))\n",
        "\n",
        "# Perform one-hot-encoding on 10 most frequent labels in the variables X1 to X6\n",
        "top_10_labels = df.iloc[:, 1:7].apply(lambda x: x.value_counts().head(10)).stack().index.get_level_values(1).unique()\n",
        "\n",
        "for col in df.columns[1:7]:\n",
        "    for label in top_10_labels:\n",
        "        df[col + '_' + label] = (df[col] == label).astype(int)\n",
        "\n",
        "# Print the updated dataframe\n",
        "print(df.head())"
      ]
    },
    {
      "cell_type": "markdown",
      "metadata": {
        "cell_id": "a406807b31b0486eb6e816f0b7eb879a",
        "deepnote_cell_type": "markdown",
        "id": "_Nkw3dlgesKY",
        "tags": []
      },
      "source": [
        "2. Master the [Masks and Boolean Logic](https://jakevdp.github.io/PythonDataScienceHandbook/02.06-boolean-arrays-and-masks.html) by replicating the numpy array operations here."
      ]
    },
    {
      "cell_type": "code",
      "execution_count": 3,
      "metadata": {
        "cell_id": "b4a1eaade1934570b4aa825431e3e439",
        "colab": {
          "base_uri": "https://localhost:8080/"
        },
        "deepnote_cell_type": "code",
        "deepnote_to_be_reexecuted": false,
        "execution_millis": 27,
        "execution_start": 1685375164119,
        "id": "UNvwW96MesKZ",
        "outputId": "1938c81b-cf41-4b60-cc2e-6449f1dae1e6",
        "source_hash": "423868cf",
        "tags": []
      },
      "outputs": [
        {
          "name": "stdout",
          "output_type": "stream",
          "text": [
            "Count of elements greater than 0.5: 150\n",
            "Values less than or equal to 0.3: [0 0 0 0 0 0 0 0 0 0 0 0 0 0 0 0 0 0 0 0 0 0 0 0 0 0 0 0 0 0 0 0 0 0 0 0 0\n",
            " 0 0 0 0 0 0 0 0 0 0 0 0 0 0 0 0 0 0 0 0 0 0 0 0 0 0 0 0 0 0 0 0 0 0 0 0 0\n",
            " 0 0 0 0 0 0 0 0 0 0 0 0 0 0 0 0 0 0 0 0 0 0 0 0 0 0 0 0 0 0 0 0 0 0 0 0 0\n",
            " 0 0 0 0 0 0 0 0 0 0 0 0 0 0 0 0 0 0 0 0 0 0 0 0 0 0 0 0 0 0 0 0 0 0 0 0 0\n",
            " 0 0 0 0 0 0 0 0 0 0 0 0 0 0 0 0 0 0 0 0 0 0 0 0 0 0 0 0 0 0 0 0 0 0 0 0 0\n",
            " 0 0 0 0 0 0 0 0 0 0 0 0 0 0 0 0 0 0 0 0 0 0 0 0 0 0 0 0 0 0]\n",
            "Mean of values greater than 0.5: 82.18666666666667\n",
            "Modified rainfall array: [  0  41  15   0   0   3 122  97  58  43 213  15   0   0   0   0   0   0\n",
            "   0   0   0   5   0   0   0   0   0  89 216   0  23  20   0   0   0   0\n",
            "   0   0  51   5 183 170  46  18  94 117 264 145 152  10  30  28  25  61\n",
            " 130   3   0   0   0   5 191 107 165 467  30   0 323  43 188   0   0   5\n",
            "  69  81 277   3   0   5   0   0   0   0   0  41  36   3 221 140   0   0\n",
            "   0   0  25   0  46   0   0  46   0   0   0   0   0   0   5 109 185   0\n",
            " 137   0  51 142  89 124   0  33  69   0   0   0   0   0 333 160  51   0\n",
            "   0 137  20   5   0   0   0   0   0   0   0   0   0   0   0   0  38   0\n",
            "  56   0   0   0   0   0   0   0   0   0   0   0   0   0   0   0   0   0\n",
            "  18  64   0   5  36  13   0   8   3   0   0   0   0   0   0  18  23   0\n",
            "   0   0   0   0   0   0   0   0   0   0   0   0   0   0   0   0   0   0\n",
            "   0   0   0   0   3 193   0   0   0   0   0   0   0   0   0   5   0   0\n",
            "   0   0   0   0   0   0   5 127 216   0  10   0   0   0   0   0   0   0\n",
            "   0   0   0   0   0   0   0  84  13   0  30   0   0   0   0   0   0   0\n",
            "   0   0   0   0   0   0   0   5   3   0   0   0   3 183 203  43  89   0\n",
            "   0   8   0   0   0   0   0   0   0   0   0   0   3  74   0  76  71  86\n",
            "   0  33 150   0 117  10 320  94  41  61  15   8 127   5 254 170   0  18\n",
            " 109  41  48  41   0   0  51   0   0   0   0   0   0   0   0   0   0  36\n",
            " 152   5 119  13 183   3  33 343  36   0   0   0   0   8  30  74   0  91\n",
            "  99 130  69   0   0   0   0   0  28 130  30 196   0   0 206  53   0   0\n",
            "  33  41   0   0   0]\n"
          ]
        }
      ],
      "source": [
        "import numpy as np\n",
        "\n",
        "# Create the rainfall numpy array\n",
        "rainfall = pd.read_csv('https://raw.githubusercontent.com/dearbharat/datasets/main/Seattle2014.csv')['PRCP'].values\n",
        "\n",
        "# Replicate numpy array operations\n",
        "\n",
        "# Count the number of elements greater than 0.5\n",
        "count_greater_than_0_5 = np.sum(rainfall > 0.5)\n",
        "print(\"Count of elements greater than 0.5:\", count_greater_than_0_5)\n",
        "\n",
        "# Create a mask for values less than or equal to 0.3\n",
        "mask_less_equal_0_3 = rainfall <= 0.3\n",
        "\n",
        "# Apply the mask to extract values less than or equal to 0.3\n",
        "values_less_equal_0_3 = rainfall[mask_less_equal_0_3]\n",
        "print(\"Values less than or equal to 0.3:\", values_less_equal_0_3)\n",
        "\n",
        "# Calculate the mean of values greater than 0.5\n",
        "mean_greater_than_0_5 = np.mean(rainfall[rainfall > 0.5])\n",
        "print(\"Mean of values greater than 0.5:\", mean_greater_than_0_5)\n",
        "\n",
        "# Replace values less than or equal to 0.3 with 0\n",
        "rainfall[mask_less_equal_0_3] = 0\n",
        "print(\"Modified rainfall array:\", rainfall)"
      ]
    },
    {
      "cell_type": "markdown",
      "metadata": {
        "cell_id": "80155f87b97c46c7b5257aa8050cf3fd",
        "deepnote_cell_type": "markdown",
        "id": "hM3plCgZesKb",
        "tags": []
      },
      "source": [
        "3. Master the [simple line plots](https://jakevdp.github.io/PythonDataScienceHandbook/04.01-simple-line-plots.html) by replicating the plots here."
      ]
    },
    {
      "cell_type": "code",
      "execution_count": 4,
      "metadata": {
        "cell_id": "bfa2e1543ea94579ab402c47b228efb7",
        "colab": {
          "base_uri": "https://localhost:8080/",
          "height": 492
        },
        "deepnote_cell_type": "code",
        "deepnote_to_be_reexecuted": false,
        "execution_millis": 3,
        "execution_start": 1685375164160,
        "id": "nOq6fvqlesKc",
        "outputId": "a9117af8-81cf-4ff6-8ace-c389225200f3",
        "source_hash": "b623e53d",
        "tags": []
      },
      "outputs": [
        {
          "data": {
            "image/png": "[encoded data removed]",
            "text/plain": [
              "<Figure size 640x480 with 1 Axes>"
            ]
          },
          "metadata": {},
          "output_type": "display_data"
        }
      ],
      "source": [
        "import pandas as pd\n",
        "import matplotlib.pyplot as plt\n",
        "\n",
        "# Read the rainfall data from the CSV file\n",
        "rainfall_data = pd.read_csv('https://raw.githubusercontent.com/dearbharat/datasets/main/Seattle2014.csv')\n",
        "\n",
        "# Extract the date and rainfall columns\n",
        "date = rainfall_data['DATE']\n",
        "rainfall = rainfall_data['PRCP']\n",
        "\n",
        "# Create a line plot\n",
        "plt.plot(date, rainfall, color='blue')\n",
        "\n",
        "# Set plot title and labels\n",
        "plt.title('Rainfall in Seattle (2014)')\n",
        "plt.xlabel('Date')\n",
        "plt.ylabel('Rainfall (inches)')\n",
        "\n",
        "# Rotate x-axis labels for better readability\n",
        "plt.xticks(rotation=45)\n",
        "\n",
        "# Display the plot\n",
        "plt.show()"
      ]
    },
    {
      "cell_type": "markdown",
      "metadata": {
        "cell_id": "eafd916455fa4bc79c50ea2c823b241d",
        "deepnote_cell_type": "markdown",
        "id": "8mUmpUeDesKe",
        "tags": []
      },
      "source": [
        "4. Master the [Customizing Ticks](https://jakevdp.github.io/PythonDataScienceHandbook/04.10-customizing-ticks.html) by replicating the plots here."
      ]
    },
    {
      "cell_type": "code",
      "execution_count": 5,
      "metadata": {
        "cell_id": "25fdbaaa82ca411bab5cf3675019af8a",
        "colab": {
          "base_uri": "https://localhost:8080/",
          "height": 492
        },
        "deepnote_cell_type": "code",
        "deepnote_to_be_reexecuted": false,
        "execution_millis": 2,
        "execution_start": 1685375164161,
        "id": "LeTvKRNresKe",
        "outputId": "ebd5c7db-cd31-45c1-81ee-6d5658acd8bc",
        "source_hash": "b623e53d",
        "tags": []
      },
      "outputs": [
        {
          "data": {
            "image/png": "[encoded data removed]",
            "text/plain": [
              "<Figure size 640x480 with 1 Axes>"
            ]
          },
          "metadata": {},
          "output_type": "display_data"
        }
      ],
      "source": [
        "import pandas as pd\n",
        "import matplotlib.pyplot as plt\n",
        "\n",
        "# Read the rainfall data from the CSV file\n",
        "rainfall_data = pd.read_csv('https://raw.githubusercontent.com/dearbharat/datasets/main/Seattle2014.csv')\n",
        "\n",
        "# Extract the date and rainfall columns\n",
        "date = rainfall_data['DATE']\n",
        "rainfall = rainfall_data['PRCP']\n",
        "\n",
        "# Create a line plot\n",
        "plt.plot(date, rainfall, color='blue')\n",
        "\n",
        "# Set plot title and labels\n",
        "plt.title('Rainfall in Seattle (2014)')\n",
        "plt.xlabel('Date')\n",
        "plt.ylabel('Rainfall (inches)')\n",
        "\n",
        "# Customize the ticks\n",
        "plt.xticks(rotation=45, ha='right')\n",
        "plt.yticks(range(0, 60, 10))\n",
        "\n",
        "# Display the plot\n",
        "plt.show()"
      ]
    },
    {
      "cell_type": "markdown",
      "metadata": {
        "cell_id": "95576548a49743d28241d55b2ec66b56",
        "deepnote_cell_type": "markdown",
        "id": "GEuB9IC1esKe",
        "tags": []
      },
      "source": [
        "## Set 2 (First_Name Last_Name)\n"
      ]
    },
    {
      "cell_type": "markdown",
      "metadata": {
        "cell_id": "5b30fa3239114446bb0d6754422b482c",
        "deepnote_cell_type": "markdown",
        "id": "LEAs6N6vesKf",
        "tags": []
      },
      "source": [
        "1. Import titanic.csv in a dataframe. Confirm and report any variables  with missing values. Perform the following tasks on the dataframe.\n",
        "a. For the variable with most missing values create a new column 'variablename_null' with value 1 wherever the value is missing and 0 wherever the record is present in the original variable.\n",
        "b. For the variable with second highest number of missing values create a new column 'variablename_median' with median replacing the missing values and keep rest of the values as original values."
      ]
    },
    {
      "cell_type": "code",
      "execution_count": 6,
      "metadata": {
        "cell_id": "f1ecd8195d41407ea113329ebb9af249",
        "colab": {
          "base_uri": "https://localhost:8080/",
          "height": 206
        },
        "deepnote_cell_type": "code",
        "deepnote_to_be_reexecuted": false,
        "execution_millis": 122,
        "execution_start": 1685375164162,
        "id": "08Lx24AHesKf",
        "outputId": "c18077ed-537b-4e46-f28a-a5388fdc9e15",
        "source_hash": "13ac68bb",
        "tags": []
      },
      "outputs": [
        {
          "data": {
            "text/html": [
              "<div>\n",
              "<style scoped>\n",
              "    .dataframe tbody tr th:only-of-type {\n",
              "        vertical-align: middle;\n",
              "    }\n",
              "\n",
              "    .dataframe tbody tr th {\n",
              "        vertical-align: top;\n",
              "    }\n",
              "\n",
              "    .dataframe thead th {\n",
              "        text-align: right;\n",
              "    }\n",
              "</style>\n",
              "<table border=\"1\" class=\"dataframe\">\n",
              "  <thead>\n",
              "    <tr style=\"text-align: right;\">\n",
              "      <th></th>\n",
              "      <th>PassengerId</th>\n",
              "      <th>Survived</th>\n",
              "      <th>Pclass</th>\n",
              "      <th>Name</th>\n",
              "      <th>Sex</th>\n",
              "      <th>Age</th>\n",
              "      <th>SibSp</th>\n",
              "      <th>Parch</th>\n",
              "      <th>Ticket</th>\n",
              "      <th>Fare</th>\n",
              "      <th>Cabin</th>\n",
              "      <th>Embarked</th>\n",
              "    </tr>\n",
              "  </thead>\n",
              "  <tbody>\n",
              "    <tr>\n",
              "      <th>0</th>\n",
              "      <td>1</td>\n",
              "      <td>0</td>\n",
              "      <td>3</td>\n",
              "      <td>Braund, Mr. Owen Harris</td>\n",
              "      <td>male</td>\n",
              "      <td>22.0</td>\n",
              "      <td>1</td>\n",
              "      <td>0</td>\n",
              "      <td>A/5 21171</td>\n",
              "      <td>7.2500</td>\n",
              "      <td>NaN</td>\n",
              "      <td>S</td>\n",
              "    </tr>\n",
              "    <tr>\n",
              "      <th>1</th>\n",
              "      <td>2</td>\n",
              "      <td>1</td>\n",
              "      <td>1</td>\n",
              "      <td>Cumings, Mrs. John Bradley (Florence Briggs Th...</td>\n",
              "      <td>female</td>\n",
              "      <td>38.0</td>\n",
              "      <td>1</td>\n",
              "      <td>0</td>\n",
              "      <td>PC 17599</td>\n",
              "      <td>71.2833</td>\n",
              "      <td>C85</td>\n",
              "      <td>C</td>\n",
              "    </tr>\n",
              "    <tr>\n",
              "      <th>2</th>\n",
              "      <td>3</td>\n",
              "      <td>1</td>\n",
              "      <td>3</td>\n",
              "      <td>Heikkinen, Miss. Laina</td>\n",
              "      <td>female</td>\n",
              "      <td>26.0</td>\n",
              "      <td>0</td>\n",
              "      <td>0</td>\n",
              "      <td>STON/O2. 3101282</td>\n",
              "      <td>7.9250</td>\n",
              "      <td>NaN</td>\n",
              "      <td>S</td>\n",
              "    </tr>\n",
              "    <tr>\n",
              "      <th>3</th>\n",
              "      <td>4</td>\n",
              "      <td>1</td>\n",
              "      <td>1</td>\n",
              "      <td>Futrelle, Mrs. Jacques Heath (Lily May Peel)</td>\n",
              "      <td>female</td>\n",
              "      <td>35.0</td>\n",
              "      <td>1</td>\n",
              "      <td>0</td>\n",
              "      <td>113803</td>\n",
              "      <td>53.1000</td>\n",
              "      <td>C123</td>\n",
              "      <td>S</td>\n",
              "    </tr>\n",
              "    <tr>\n",
              "      <th>4</th>\n",
              "      <td>5</td>\n",
              "      <td>0</td>\n",
              "      <td>3</td>\n",
              "      <td>Allen, Mr. William Henry</td>\n",
              "      <td>male</td>\n",
              "      <td>35.0</td>\n",
              "      <td>0</td>\n",
              "      <td>0</td>\n",
              "      <td>373450</td>\n",
              "      <td>8.0500</td>\n",
              "      <td>NaN</td>\n",
              "      <td>S</td>\n",
              "    </tr>\n",
              "  </tbody>\n",
              "</table>\n",
              "</div>"
            ],
            "text/plain": [
              "   PassengerId  Survived  Pclass  \\\n",
              "0            1         0       3   \n",
              "1            2         1       1   \n",
              "2            3         1       3   \n",
              "3            4         1       1   \n",
              "4            5         0       3   \n",
              "\n",
              "                                                Name     Sex   Age  SibSp  \\\n",
              "0                            Braund, Mr. Owen Harris    male  22.0      1   \n",
              "1  Cumings, Mrs. John Bradley (Florence Briggs Th...  female  38.0      1   \n",
              "2                             Heikkinen, Miss. Laina  female  26.0      0   \n",
              "3       Futrelle, Mrs. Jacques Heath (Lily May Peel)  female  35.0      1   \n",
              "4                           Allen, Mr. William Henry    male  35.0      0   \n",
              "\n",
              "   Parch            Ticket     Fare Cabin Embarked  \n",
              "0      0         A/5 21171   7.2500   NaN        S  \n",
              "1      0          PC 17599  71.2833   C85        C  \n",
              "2      0  STON/O2. 3101282   7.9250   NaN        S  \n",
              "3      0            113803  53.1000  C123        S  \n",
              "4      0            373450   8.0500   NaN        S  "
            ]
          },
          "execution_count": 6,
          "metadata": {},
          "output_type": "execute_result"
        }
      ],
      "source": [
        "df = pd.read_csv('https://raw.githubusercontent.com/dearbharat/datasets/main/titanic.csv')\n",
        "df.head()"
      ]
    },
    {
      "cell_type": "markdown",
      "metadata": {
        "cell_id": "96717fc5e57d494f89522575a828a525",
        "deepnote_cell_type": "markdown",
        "id": "QfhFVNG7esKg",
        "tags": []
      },
      "source": [
        "2. Master the [Fancy Indexing](https://jakevdp.github.io/PythonDataScienceHandbook/02.07-fancy-indexing.html) by replicating the numpy array operations here. "
      ]
    },
    {
      "cell_type": "code",
      "execution_count": null,
      "metadata": {
        "cell_id": "fe4db109979048c69f5b108a840c7d9a",
        "deepnote_cell_type": "code",
        "deepnote_to_be_reexecuted": false,
        "execution_millis": 9,
        "execution_start": 1685375164330,
        "id": "fjG-H3U8esKg",
        "source_hash": "b623e53d",
        "tags": []
      },
      "outputs": [],
      "source": []
    },
    {
      "cell_type": "markdown",
      "metadata": {
        "cell_id": "7737689073454808bde23b853a7114b3",
        "deepnote_cell_type": "markdown",
        "id": "ApnZoTFmesKh",
        "tags": []
      },
      "source": [
        "3. Master the [simple scatter plots](https://jakevdp.github.io/PythonDataScienceHandbook/04.02-simple-scatter-plots.html) by replicating the plots here."
      ]
    },
    {
      "cell_type": "code",
      "execution_count": null,
      "metadata": {
        "cell_id": "6ad0ada449854de89f7847315874fae9",
        "deepnote_cell_type": "code",
        "deepnote_to_be_reexecuted": false,
        "execution_millis": 7,
        "execution_start": 1685375164332,
        "id": "U28wS-YOesKh",
        "source_hash": "b623e53d",
        "tags": []
      },
      "outputs": [],
      "source": []
    },
    {
      "cell_type": "markdown",
      "metadata": {
        "cell_id": "1eb4a51e09534400a147f13bba152b50",
        "deepnote_cell_type": "markdown",
        "id": "5lrMK0AUesKi",
        "tags": []
      },
      "source": [
        "4. Master the [Customizing Text and Annotation](https://jakevdp.github.io/PythonDataScienceHandbook/04.09-text-and-annotation.html) by replicating the plots here."
      ]
    },
    {
      "cell_type": "code",
      "execution_count": null,
      "metadata": {
        "cell_id": "4f14c7831fd34f4aa3a80a9c313f2529",
        "deepnote_cell_type": "code",
        "deepnote_to_be_reexecuted": false,
        "execution_millis": 7,
        "execution_start": 1685375164332,
        "id": "yUZSIIfZesKi",
        "source_hash": "b623e53d",
        "tags": []
      },
      "outputs": [],
      "source": []
    },
    {
      "cell_type": "markdown",
      "metadata": {
        "cell_id": "f3a3e3f9589043ada7faeafa5261204e",
        "deepnote_cell_type": "markdown",
        "id": "D4Jx0djfesKj",
        "tags": []
      },
      "source": [
        "## Set 3 (Bin Liao)"
      ]
    },
    {
      "cell_type": "markdown",
      "metadata": {
        "cell_id": "f936321d6f51492c98a85824c8144d10",
        "deepnote_cell_type": "markdown",
        "id": "op96MoQlesKj",
        "tags": []
      },
      "source": [
        "1. Import titanic.csv in a dataframe. Confirm and report any variables  with missing values. Perform the following tasks on the dataframe.\n",
        "a. For the variable with second highest number of missing values create a new column 'variablename_random' with a random value sampled from variable column. \n",
        "b. Repeat this process for all the missing values."
      ]
    },
    {
      "cell_type": "code",
      "execution_count": 7,
      "metadata": {
        "cell_id": "4fcd1352b177471aa23ac5e7c9b04f76",
        "colab": {
          "base_uri": "https://localhost:8080/",
          "height": 206
        },
        "deepnote_cell_type": "code",
        "deepnote_to_be_reexecuted": false,
        "execution_millis": 45,
        "execution_start": 1685375164333,
        "id": "VGV81nT8esKj",
        "outputId": "5173b270-9f3d-45ae-9768-949c8e63480b",
        "source_hash": "13ac68bb",
        "tags": []
      },
      "outputs": [
        {
          "data": {
            "text/html": [
              "<div>\n",
              "<style scoped>\n",
              "    .dataframe tbody tr th:only-of-type {\n",
              "        vertical-align: middle;\n",
              "    }\n",
              "\n",
              "    .dataframe tbody tr th {\n",
              "        vertical-align: top;\n",
              "    }\n",
              "\n",
              "    .dataframe thead th {\n",
              "        text-align: right;\n",
              "    }\n",
              "</style>\n",
              "<table border=\"1\" class=\"dataframe\">\n",
              "  <thead>\n",
              "    <tr style=\"text-align: right;\">\n",
              "      <th></th>\n",
              "      <th>PassengerId</th>\n",
              "      <th>Survived</th>\n",
              "      <th>Pclass</th>\n",
              "      <th>Name</th>\n",
              "      <th>Sex</th>\n",
              "      <th>Age</th>\n",
              "      <th>SibSp</th>\n",
              "      <th>Parch</th>\n",
              "      <th>Ticket</th>\n",
              "      <th>Fare</th>\n",
              "      <th>Cabin</th>\n",
              "      <th>Embarked</th>\n",
              "    </tr>\n",
              "  </thead>\n",
              "  <tbody>\n",
              "    <tr>\n",
              "      <th>0</th>\n",
              "      <td>1</td>\n",
              "      <td>0</td>\n",
              "      <td>3</td>\n",
              "      <td>Braund, Mr. Owen Harris</td>\n",
              "      <td>male</td>\n",
              "      <td>22.0</td>\n",
              "      <td>1</td>\n",
              "      <td>0</td>\n",
              "      <td>A/5 21171</td>\n",
              "      <td>7.2500</td>\n",
              "      <td>NaN</td>\n",
              "      <td>S</td>\n",
              "    </tr>\n",
              "    <tr>\n",
              "      <th>1</th>\n",
              "      <td>2</td>\n",
              "      <td>1</td>\n",
              "      <td>1</td>\n",
              "      <td>Cumings, Mrs. John Bradley (Florence Briggs Th...</td>\n",
              "      <td>female</td>\n",
              "      <td>38.0</td>\n",
              "      <td>1</td>\n",
              "      <td>0</td>\n",
              "      <td>PC 17599</td>\n",
              "      <td>71.2833</td>\n",
              "      <td>C85</td>\n",
              "      <td>C</td>\n",
              "    </tr>\n",
              "    <tr>\n",
              "      <th>2</th>\n",
              "      <td>3</td>\n",
              "      <td>1</td>\n",
              "      <td>3</td>\n",
              "      <td>Heikkinen, Miss. Laina</td>\n",
              "      <td>female</td>\n",
              "      <td>26.0</td>\n",
              "      <td>0</td>\n",
              "      <td>0</td>\n",
              "      <td>STON/O2. 3101282</td>\n",
              "      <td>7.9250</td>\n",
              "      <td>NaN</td>\n",
              "      <td>S</td>\n",
              "    </tr>\n",
              "    <tr>\n",
              "      <th>3</th>\n",
              "      <td>4</td>\n",
              "      <td>1</td>\n",
              "      <td>1</td>\n",
              "      <td>Futrelle, Mrs. Jacques Heath (Lily May Peel)</td>\n",
              "      <td>female</td>\n",
              "      <td>35.0</td>\n",
              "      <td>1</td>\n",
              "      <td>0</td>\n",
              "      <td>113803</td>\n",
              "      <td>53.1000</td>\n",
              "      <td>C123</td>\n",
              "      <td>S</td>\n",
              "    </tr>\n",
              "    <tr>\n",
              "      <th>4</th>\n",
              "      <td>5</td>\n",
              "      <td>0</td>\n",
              "      <td>3</td>\n",
              "      <td>Allen, Mr. William Henry</td>\n",
              "      <td>male</td>\n",
              "      <td>35.0</td>\n",
              "      <td>0</td>\n",
              "      <td>0</td>\n",
              "      <td>373450</td>\n",
              "      <td>8.0500</td>\n",
              "      <td>NaN</td>\n",
              "      <td>S</td>\n",
              "    </tr>\n",
              "  </tbody>\n",
              "</table>\n",
              "</div>"
            ],
            "text/plain": [
              "   PassengerId  Survived  Pclass  \\\n",
              "0            1         0       3   \n",
              "1            2         1       1   \n",
              "2            3         1       3   \n",
              "3            4         1       1   \n",
              "4            5         0       3   \n",
              "\n",
              "                                                Name     Sex   Age  SibSp  \\\n",
              "0                            Braund, Mr. Owen Harris    male  22.0      1   \n",
              "1  Cumings, Mrs. John Bradley (Florence Briggs Th...  female  38.0      1   \n",
              "2                             Heikkinen, Miss. Laina  female  26.0      0   \n",
              "3       Futrelle, Mrs. Jacques Heath (Lily May Peel)  female  35.0      1   \n",
              "4                           Allen, Mr. William Henry    male  35.0      0   \n",
              "\n",
              "   Parch            Ticket     Fare Cabin Embarked  \n",
              "0      0         A/5 21171   7.2500   NaN        S  \n",
              "1      0          PC 17599  71.2833   C85        C  \n",
              "2      0  STON/O2. 3101282   7.9250   NaN        S  \n",
              "3      0            113803  53.1000  C123        S  \n",
              "4      0            373450   8.0500   NaN        S  "
            ]
          },
          "execution_count": 7,
          "metadata": {},
          "output_type": "execute_result"
        }
      ],
      "source": [
        "df = pd.read_csv('https://raw.githubusercontent.com/dearbharat/datasets/main/titanic.csv')\n",
        "df.head()"
      ]
    },
    {
      "cell_type": "code",
      "execution_count": 8,
      "metadata": {
        "colab": {
          "base_uri": "https://localhost:8080/"
        },
        "id": "8ueRo14ctKAK",
        "outputId": "3abc6c79-f37d-486f-e126-08e0649a9308"
      },
      "outputs": [
        {
          "name": "stdout",
          "output_type": "stream",
          "text": [
            "Cabin          687\n",
            "Age            177\n",
            "Embarked         2\n",
            "PassengerId      0\n",
            "Survived         0\n",
            "Pclass           0\n",
            "Name             0\n",
            "Sex              0\n",
            "SibSp            0\n",
            "Parch            0\n",
            "Ticket           0\n",
            "Fare             0\n",
            "dtype: int64\n"
          ]
        }
      ],
      "source": [
        "# a. Find out the column have mssing value.\n",
        "missing = df.isnull().sum()\n",
        "print(missing.sort_values(ascending=False))"
      ]
    },
    {
      "cell_type": "markdown",
      "metadata": {
        "id": "WCl9HDBLtudf"
      },
      "source": [
        "From the above print out, it indicate that \"Cabin\" \"Age\", and \"Embarked\" columns contains missing values. And the \"Age\" is the second highest number of missing values"
      ]
    },
    {
      "cell_type": "code",
      "execution_count": 9,
      "metadata": {
        "colab": {
          "base_uri": "https://localhost:8080/",
          "height": 206
        },
        "id": "hzq0-WuVvqoy",
        "outputId": "6e804cb5-17e6-4fe6-bdf8-f36cac54db6a"
      },
      "outputs": [
        {
          "data": {
            "text/html": [
              "<div>\n",
              "<style scoped>\n",
              "    .dataframe tbody tr th:only-of-type {\n",
              "        vertical-align: middle;\n",
              "    }\n",
              "\n",
              "    .dataframe tbody tr th {\n",
              "        vertical-align: top;\n",
              "    }\n",
              "\n",
              "    .dataframe thead th {\n",
              "        text-align: right;\n",
              "    }\n",
              "</style>\n",
              "<table border=\"1\" class=\"dataframe\">\n",
              "  <thead>\n",
              "    <tr style=\"text-align: right;\">\n",
              "      <th></th>\n",
              "      <th>Age</th>\n",
              "      <th>Age_random</th>\n",
              "    </tr>\n",
              "  </thead>\n",
              "  <tbody>\n",
              "    <tr>\n",
              "      <th>5</th>\n",
              "      <td>NaN</td>\n",
              "      <td>28.00</td>\n",
              "    </tr>\n",
              "    <tr>\n",
              "      <th>17</th>\n",
              "      <td>NaN</td>\n",
              "      <td>50.00</td>\n",
              "    </tr>\n",
              "    <tr>\n",
              "      <th>19</th>\n",
              "      <td>NaN</td>\n",
              "      <td>0.92</td>\n",
              "    </tr>\n",
              "    <tr>\n",
              "      <th>26</th>\n",
              "      <td>NaN</td>\n",
              "      <td>36.00</td>\n",
              "    </tr>\n",
              "    <tr>\n",
              "      <th>28</th>\n",
              "      <td>NaN</td>\n",
              "      <td>26.00</td>\n",
              "    </tr>\n",
              "  </tbody>\n",
              "</table>\n",
              "</div>"
            ],
            "text/plain": [
              "    Age  Age_random\n",
              "5   NaN       28.00\n",
              "17  NaN       50.00\n",
              "19  NaN        0.92\n",
              "26  NaN       36.00\n",
              "28  NaN       26.00"
            ]
          },
          "execution_count": 9,
          "metadata": {},
          "output_type": "execute_result"
        }
      ],
      "source": [
        "# Create a new column 'Age_random' from 'Age'\n",
        "df['Age_random'] = df['Age']\n",
        "\n",
        "# Generate random samples\n",
        "random_sample = df['Age'].dropna().sample(df['Age'].isnull().sum(), random_state=0)\n",
        "\n",
        "# Replace missing values in 'Age_random' with the random samples\n",
        "random_sample.index = df[df['Age'].isnull()].index\n",
        "df.loc[df['Age'].isnull(), 'Age_random'] = random_sample\n",
        "\n",
        "# Display rows where 'Age' is null\n",
        "df[df['Age'].isnull()][['Age', 'Age_random']].head()"
      ]
    },
    {
      "cell_type": "code",
      "execution_count": 10,
      "metadata": {
        "colab": {
          "base_uri": "https://localhost:8080/",
          "height": 745
        },
        "id": "ocNx9XYwVfvV",
        "outputId": "81f1ba92-ea59-4eb5-dae1-9054cf3d8a18"
      },
      "outputs": [
        {
          "name": "stdout",
          "output_type": "stream",
          "text": [
            "Updating the 'Cabin' column null value\n",
            "Update result:\n",
            "  Cabin Cabin_random\n",
            "0   NaN          B22\n",
            "2   NaN          D35\n",
            "4   NaN          F33\n",
            "5   NaN          E49\n",
            "7   NaN          C54\n",
            "\n",
            "Updating the 'Embarked' column null value\n",
            "Update result:\n",
            "    Embarked Embarked_random\n",
            "61       NaN               C\n",
            "829      NaN               Q\n",
            "\n",
            "Display titanic table.\n"
          ]
        },
        {
          "data": {
            "text/html": [
              "<div>\n",
              "<style scoped>\n",
              "    .dataframe tbody tr th:only-of-type {\n",
              "        vertical-align: middle;\n",
              "    }\n",
              "\n",
              "    .dataframe tbody tr th {\n",
              "        vertical-align: top;\n",
              "    }\n",
              "\n",
              "    .dataframe thead th {\n",
              "        text-align: right;\n",
              "    }\n",
              "</style>\n",
              "<table border=\"1\" class=\"dataframe\">\n",
              "  <thead>\n",
              "    <tr style=\"text-align: right;\">\n",
              "      <th></th>\n",
              "      <th>PassengerId</th>\n",
              "      <th>Survived</th>\n",
              "      <th>Pclass</th>\n",
              "      <th>Name</th>\n",
              "      <th>Sex</th>\n",
              "      <th>Age</th>\n",
              "      <th>SibSp</th>\n",
              "      <th>Parch</th>\n",
              "      <th>Ticket</th>\n",
              "      <th>Fare</th>\n",
              "      <th>Cabin</th>\n",
              "      <th>Embarked</th>\n",
              "      <th>Age_random</th>\n",
              "      <th>Cabin_random</th>\n",
              "      <th>Embarked_random</th>\n",
              "    </tr>\n",
              "  </thead>\n",
              "  <tbody>\n",
              "    <tr>\n",
              "      <th>0</th>\n",
              "      <td>1</td>\n",
              "      <td>0</td>\n",
              "      <td>3</td>\n",
              "      <td>Braund, Mr. Owen Harris</td>\n",
              "      <td>male</td>\n",
              "      <td>22.0</td>\n",
              "      <td>1</td>\n",
              "      <td>0</td>\n",
              "      <td>A/5 21171</td>\n",
              "      <td>7.2500</td>\n",
              "      <td>NaN</td>\n",
              "      <td>S</td>\n",
              "      <td>22.0</td>\n",
              "      <td>B22</td>\n",
              "      <td>S</td>\n",
              "    </tr>\n",
              "    <tr>\n",
              "      <th>1</th>\n",
              "      <td>2</td>\n",
              "      <td>1</td>\n",
              "      <td>1</td>\n",
              "      <td>Cumings, Mrs. John Bradley (Florence Briggs Th...</td>\n",
              "      <td>female</td>\n",
              "      <td>38.0</td>\n",
              "      <td>1</td>\n",
              "      <td>0</td>\n",
              "      <td>PC 17599</td>\n",
              "      <td>71.2833</td>\n",
              "      <td>C85</td>\n",
              "      <td>C</td>\n",
              "      <td>38.0</td>\n",
              "      <td>C85</td>\n",
              "      <td>C</td>\n",
              "    </tr>\n",
              "    <tr>\n",
              "      <th>2</th>\n",
              "      <td>3</td>\n",
              "      <td>1</td>\n",
              "      <td>3</td>\n",
              "      <td>Heikkinen, Miss. Laina</td>\n",
              "      <td>female</td>\n",
              "      <td>26.0</td>\n",
              "      <td>0</td>\n",
              "      <td>0</td>\n",
              "      <td>STON/O2. 3101282</td>\n",
              "      <td>7.9250</td>\n",
              "      <td>NaN</td>\n",
              "      <td>S</td>\n",
              "      <td>26.0</td>\n",
              "      <td>D35</td>\n",
              "      <td>S</td>\n",
              "    </tr>\n",
              "    <tr>\n",
              "      <th>3</th>\n",
              "      <td>4</td>\n",
              "      <td>1</td>\n",
              "      <td>1</td>\n",
              "      <td>Futrelle, Mrs. Jacques Heath (Lily May Peel)</td>\n",
              "      <td>female</td>\n",
              "      <td>35.0</td>\n",
              "      <td>1</td>\n",
              "      <td>0</td>\n",
              "      <td>113803</td>\n",
              "      <td>53.1000</td>\n",
              "      <td>C123</td>\n",
              "      <td>S</td>\n",
              "      <td>35.0</td>\n",
              "      <td>C123</td>\n",
              "      <td>S</td>\n",
              "    </tr>\n",
              "    <tr>\n",
              "      <th>4</th>\n",
              "      <td>5</td>\n",
              "      <td>0</td>\n",
              "      <td>3</td>\n",
              "      <td>Allen, Mr. William Henry</td>\n",
              "      <td>male</td>\n",
              "      <td>35.0</td>\n",
              "      <td>0</td>\n",
              "      <td>0</td>\n",
              "      <td>373450</td>\n",
              "      <td>8.0500</td>\n",
              "      <td>NaN</td>\n",
              "      <td>S</td>\n",
              "      <td>35.0</td>\n",
              "      <td>F33</td>\n",
              "      <td>S</td>\n",
              "    </tr>\n",
              "    <tr>\n",
              "      <th>5</th>\n",
              "      <td>6</td>\n",
              "      <td>0</td>\n",
              "      <td>3</td>\n",
              "      <td>Moran, Mr. James</td>\n",
              "      <td>male</td>\n",
              "      <td>NaN</td>\n",
              "      <td>0</td>\n",
              "      <td>0</td>\n",
              "      <td>330877</td>\n",
              "      <td>8.4583</td>\n",
              "      <td>NaN</td>\n",
              "      <td>Q</td>\n",
              "      <td>28.0</td>\n",
              "      <td>E49</td>\n",
              "      <td>Q</td>\n",
              "    </tr>\n",
              "    <tr>\n",
              "      <th>6</th>\n",
              "      <td>7</td>\n",
              "      <td>0</td>\n",
              "      <td>1</td>\n",
              "      <td>McCarthy, Mr. Timothy J</td>\n",
              "      <td>male</td>\n",
              "      <td>54.0</td>\n",
              "      <td>0</td>\n",
              "      <td>0</td>\n",
              "      <td>17463</td>\n",
              "      <td>51.8625</td>\n",
              "      <td>E46</td>\n",
              "      <td>S</td>\n",
              "      <td>54.0</td>\n",
              "      <td>E46</td>\n",
              "      <td>S</td>\n",
              "    </tr>\n",
              "    <tr>\n",
              "      <th>7</th>\n",
              "      <td>8</td>\n",
              "      <td>0</td>\n",
              "      <td>3</td>\n",
              "      <td>Palsson, Master. Gosta Leonard</td>\n",
              "      <td>male</td>\n",
              "      <td>2.0</td>\n",
              "      <td>3</td>\n",
              "      <td>1</td>\n",
              "      <td>349909</td>\n",
              "      <td>21.0750</td>\n",
              "      <td>NaN</td>\n",
              "      <td>S</td>\n",
              "      <td>2.0</td>\n",
              "      <td>C54</td>\n",
              "      <td>S</td>\n",
              "    </tr>\n",
              "    <tr>\n",
              "      <th>8</th>\n",
              "      <td>9</td>\n",
              "      <td>1</td>\n",
              "      <td>3</td>\n",
              "      <td>Johnson, Mrs. Oscar W (Elisabeth Vilhelmina Berg)</td>\n",
              "      <td>female</td>\n",
              "      <td>27.0</td>\n",
              "      <td>0</td>\n",
              "      <td>2</td>\n",
              "      <td>347742</td>\n",
              "      <td>11.1333</td>\n",
              "      <td>NaN</td>\n",
              "      <td>S</td>\n",
              "      <td>27.0</td>\n",
              "      <td>D28</td>\n",
              "      <td>S</td>\n",
              "    </tr>\n",
              "    <tr>\n",
              "      <th>9</th>\n",
              "      <td>10</td>\n",
              "      <td>1</td>\n",
              "      <td>2</td>\n",
              "      <td>Nasser, Mrs. Nicholas (Adele Achem)</td>\n",
              "      <td>female</td>\n",
              "      <td>14.0</td>\n",
              "      <td>1</td>\n",
              "      <td>0</td>\n",
              "      <td>237736</td>\n",
              "      <td>30.0708</td>\n",
              "      <td>NaN</td>\n",
              "      <td>C</td>\n",
              "      <td>14.0</td>\n",
              "      <td>E12</td>\n",
              "      <td>C</td>\n",
              "    </tr>\n",
              "  </tbody>\n",
              "</table>\n",
              "</div>"
            ],
            "text/plain": [
              "   PassengerId  Survived  Pclass  \\\n",
              "0            1         0       3   \n",
              "1            2         1       1   \n",
              "2            3         1       3   \n",
              "3            4         1       1   \n",
              "4            5         0       3   \n",
              "5            6         0       3   \n",
              "6            7         0       1   \n",
              "7            8         0       3   \n",
              "8            9         1       3   \n",
              "9           10         1       2   \n",
              "\n",
              "                                                Name     Sex   Age  SibSp  \\\n",
              "0                            Braund, Mr. Owen Harris    male  22.0      1   \n",
              "1  Cumings, Mrs. John Bradley (Florence Briggs Th...  female  38.0      1   \n",
              "2                             Heikkinen, Miss. Laina  female  26.0      0   \n",
              "3       Futrelle, Mrs. Jacques Heath (Lily May Peel)  female  35.0      1   \n",
              "4                           Allen, Mr. William Henry    male  35.0      0   \n",
              "5                                   Moran, Mr. James    male   NaN      0   \n",
              "6                            McCarthy, Mr. Timothy J    male  54.0      0   \n",
              "7                     Palsson, Master. Gosta Leonard    male   2.0      3   \n",
              "8  Johnson, Mrs. Oscar W (Elisabeth Vilhelmina Berg)  female  27.0      0   \n",
              "9                Nasser, Mrs. Nicholas (Adele Achem)  female  14.0      1   \n",
              "\n",
              "   Parch            Ticket     Fare Cabin Embarked  Age_random Cabin_random  \\\n",
              "0      0         A/5 21171   7.2500   NaN        S        22.0          B22   \n",
              "1      0          PC 17599  71.2833   C85        C        38.0          C85   \n",
              "2      0  STON/O2. 3101282   7.9250   NaN        S        26.0          D35   \n",
              "3      0            113803  53.1000  C123        S        35.0         C123   \n",
              "4      0            373450   8.0500   NaN        S        35.0          F33   \n",
              "5      0            330877   8.4583   NaN        Q        28.0          E49   \n",
              "6      0             17463  51.8625   E46        S        54.0          E46   \n",
              "7      1            349909  21.0750   NaN        S         2.0          C54   \n",
              "8      2            347742  11.1333   NaN        S        27.0          D28   \n",
              "9      0            237736  30.0708   NaN        C        14.0          E12   \n",
              "\n",
              "  Embarked_random  \n",
              "0               S  \n",
              "1               C  \n",
              "2               S  \n",
              "3               S  \n",
              "4               S  \n",
              "5               Q  \n",
              "6               S  \n",
              "7               S  \n",
              "8               S  \n",
              "9               C  "
            ]
          },
          "execution_count": 10,
          "metadata": {},
          "output_type": "execute_result"
        }
      ],
      "source": [
        "\n",
        "def update_nan_with_random_sample(df, column):\n",
        "    df[column + '_random'] = df[column]\n",
        "    missing = df[column].isnull().sum()\n",
        "    random_sample = df[column].dropna().sample(missing, replace=True, random_state=0)\n",
        "    random_sample.index = df[df[column].isnull()].index\n",
        "    df.loc[df[column].isnull(), column + '_random'] = random_sample\n",
        "\n",
        "\n",
        "print(\"Updating the 'Cabin' column null value\")\n",
        "update_nan_with_random_sample(df, \"Cabin\")\n",
        "print (\"Update result:\")\n",
        "print(df[df['Cabin'].isnull()][['Cabin', 'Cabin_random']].head())\n",
        "\n",
        "print(\"\\nUpdating the 'Embarked' column null value\")\n",
        "update_nan_with_random_sample(df, \"Embarked\")\n",
        "print (\"Update result:\")\n",
        "print(df[df['Embarked'].isnull()][['Embarked', 'Embarked_random']].head())\n",
        "\n",
        "print(\"\\nDisplay titanic table.\")\n",
        "df.head(10)\n"
      ]
    },
    {
      "cell_type": "markdown",
      "metadata": {
        "cell_id": "88a5589fab9e4d729dae16e026ffffc9",
        "deepnote_cell_type": "markdown",
        "id": "NPBfb6HQesKl",
        "tags": []
      },
      "source": [
        "2. Master the [Sorting Arrays](https://jakevdp.github.io/PythonDataScienceHandbook/02.08-sorting.html) by replicating the numpy array operations here. \n",
        "Note: You do not neeed to complete \"Example: k-Nearest Neighbors\" section\n",
        "\n",
        "To demo numpy sort arrays operation, select the \"Fare\" and \"Ages\" column to working on it."
      ]
    },
    {
      "cell_type": "code",
      "execution_count": 11,
      "metadata": {
        "cell_id": "09ea0d758c5647c882dfade4eca84fbe",
        "colab": {
          "base_uri": "https://localhost:8080/"
        },
        "deepnote_cell_type": "code",
        "deepnote_to_be_reexecuted": false,
        "execution_millis": 4,
        "execution_start": 1685375164382,
        "id": "tBqkR8xVesKl",
        "outputId": "ff3b3065-ff3e-43f1-e804-eb33deb7d7e2",
        "source_hash": "b623e53d",
        "tags": []
      },
      "outputs": [
        {
          "name": "stdout",
          "output_type": "stream",
          "text": [
            "Before sorting:\n",
            "[ 7.25   71.2833  7.925  53.1     8.05    8.4583 51.8625 21.075  11.1333\n",
            " 30.0708]\n",
            "\n",
            "After sorting:\n",
            "[0. 0. 0. 0. 0. 0. 0. 0. 0. 0.]\n",
            "\n",
            "Descending sorting:\n",
            "[512.3292 512.3292 512.3292 263.     263.     263.     263.     262.375\n",
            " 262.375  247.5208]\n",
            "\n",
            "Result with 'argsort':\n",
            "[271 597 302 633 277 413 674 263 466 732]\n",
            "\n",
            "Print the first 5th lowest fare\n",
            "[0.    0.    0.    0.    0.    0.    0.    0.    0.    0.    0.    0.\n",
            " 0.    6.45  0.    6.975 7.225 7.05  7.125 7.225]\n",
            "\n",
            "Before sorting with a 2D array:\n",
            "[[22.      7.25  ]\n",
            " [38.     71.2833]\n",
            " [26.      7.925 ]\n",
            " [35.     53.1   ]\n",
            " [35.      8.05  ]\n",
            " [28.      8.4583]\n",
            " [54.     51.8625]\n",
            " [ 2.     21.075 ]\n",
            " [27.     11.1333]\n",
            " [14.     30.0708]]\n",
            "\n",
            "After row-wise sorting:\n",
            "[[ 7.25   22.    ]\n",
            " [38.     71.2833]\n",
            " [ 7.925  26.    ]\n",
            " [35.     53.1   ]\n",
            " [ 8.05   35.    ]\n",
            " [ 8.4583 28.    ]\n",
            " [51.8625 54.    ]\n",
            " [ 2.     21.075 ]\n",
            " [11.1333 27.    ]\n",
            " [14.     30.0708]]\n",
            "\n",
            "After column-wise sorting:\n",
            "[[0.42 0.  ]\n",
            " [0.42 0.  ]\n",
            " [0.67 0.  ]\n",
            " [0.75 0.  ]\n",
            " [0.75 0.  ]\n",
            " [0.75 0.  ]\n",
            " [0.75 0.  ]\n",
            " [0.83 0.  ]\n",
            " [0.83 0.  ]\n",
            " [0.92 0.  ]]\n"
          ]
        }
      ],
      "source": [
        "# Import the NumPy library\n",
        "import numpy as np\n",
        "\n",
        "# Create a fare array from the dataframe.\n",
        "fare_array = df['Fare'].values\n",
        "\n",
        "#List the first 10 values:\n",
        "print(\"Before sorting:\")\n",
        "print(fare_array[:10])\n",
        "\n",
        "# Sort with the default 'sort function in Numpy.\n",
        "sorted_fare = np.sort(fare_array)\n",
        "print(\"\\nAfter sorting:\")\n",
        "print(sorted_fare[:10])\n",
        "\n",
        "# Sort descending:\n",
        "sorted_fare = np.sort(fare_array)[::-1]\n",
        "print(\"\\nDescending sorting:\")\n",
        "print(sorted_fare[:10])\n",
        "\n",
        "# Sort with the 'argsort'\n",
        "argsorted_fare = np.argsort(fare_array)\n",
        "print(\"\\nResult with 'argsort':\")\n",
        "print(argsorted_fare[:10])\n",
        "\n",
        "# Partitioning sort at the 5rd index\n",
        "partitioned_array = np.partition(fare_array, 5)\n",
        "print(\"\\nPrint the first 5th lowest fare\")\n",
        "print(partitioned_array[:20])\n",
        "\n",
        "# Create a 2D array using 'Age_random' and 'Fare'\n",
        "age_fare_array = df[['Age_random', 'Fare']].values\n",
        "\n",
        "# Print the first 10 rows of this array before sorting\n",
        "print(\"\\nBefore sorting with a 2D array:\")\n",
        "print(age_fare_array[:10])\n",
        "\n",
        "# Sort each row of the 2d array\n",
        "sorted_row_array = np.sort(age_fare_array, axis=1)\n",
        "\n",
        "# Print the first 10 rows of the array after row sorting\n",
        "print(\"\\nAfter row-wise sorting:\")\n",
        "print(sorted_row_array[:10])\n",
        "\n",
        "\n",
        "# Sort each column of the array\n",
        "sorted_column_array = np.sort(age_fare_array, axis=0)\n",
        "\n",
        "# Let's print the first 10 rows of the array after column sorting\n",
        "print(\"\\nAfter column-wise sorting:\")\n",
        "print(sorted_column_array[:10])"
      ]
    },
    {
      "cell_type": "markdown",
      "metadata": {
        "cell_id": "6e216d969ba142a0b0bfa58a64070f95",
        "deepnote_cell_type": "markdown",
        "id": "jmA0__6yesKl",
        "tags": []
      },
      "source": [
        "3. Master the [Density and Contour Plots](https://jakevdp.github.io/PythonDataScienceHandbook/04.04-density-and-contour-plots.html) by replicating the plots here."
      ]
    },
    {
      "cell_type": "code",
      "execution_count": 12,
      "metadata": {
        "cell_id": "90b58827752a4d04b960a6b6d8c3f1f1",
        "colab": {
          "base_uri": "https://localhost:8080/",
          "height": 472
        },
        "deepnote_cell_type": "code",
        "deepnote_to_be_reexecuted": false,
        "execution_millis": 3,
        "execution_start": 1685375164439,
        "id": "3s-LVQbWesKm",
        "outputId": "8e78b7a7-85c1-4742-b2ad-d1f956fff8cd",
        "source_hash": "b623e53d",
        "tags": []
      },
      "outputs": [
        {
          "data": {
            "image/png": "[encoded data removed]",
            "text/plain": [
              "<Figure size 640x480 with 2 Axes>"
            ]
          },
          "metadata": {},
          "output_type": "display_data"
        }
      ],
      "source": [
        "import numpy as np\n",
        "import matplotlib.pyplot as plt\n",
        "\n",
        "x = df['Age_random'].values\n",
        "y = df['Fare'].values\n",
        "\n",
        "# Calculate the point density\n",
        "hist, xedges, yedges = np.histogram2d(x, y, bins=[10,10], density=True)\n",
        "\n",
        "# Get the meshgrid for x and y\n",
        "X, Y = np.meshgrid(xedges[:-1], yedges[:-1])\n",
        "\n",
        "# Create a contour plot\n",
        "plt.contourf(X, Y, hist.T, levels=10, cmap='Blues')\n",
        "\n",
        "\n",
        "# Display the plot\n",
        "plt.colorbar(label='counts in bin')\n",
        "plt.title(\"Density and Contour Plot\")\n",
        "plt.xlabel(\"Age\")\n",
        "plt.ylabel(\"Fare\")\n",
        "plt.show()"
      ]
    },
    {
      "cell_type": "markdown",
      "metadata": {
        "cell_id": "93f01d18cbcc4bcdb7d2fe8d26ea58ce",
        "deepnote_cell_type": "markdown",
        "id": "IF7pzHqxesKm",
        "tags": []
      },
      "source": [
        "4. Master the [Customizing Plot Colorbars](https://jakevdp.github.io/PythonDataScienceHandbook/04.07-customizing-colorbars.html) by replicating the plots here."
      ]
    },
    {
      "cell_type": "code",
      "execution_count": 13,
      "metadata": {
        "colab": {
          "base_uri": "https://localhost:8080/",
          "height": 723
        },
        "id": "rAAPcaCdP-2e",
        "outputId": "16abac7f-ce4f-41b1-98b8-2b35d684aeee"
      },
      "outputs": [
        {
          "data": {
            "image/png": "[encoded data removed]",
            "text/plain": [
              "<Figure size 1000x800 with 2 Axes>"
            ]
          },
          "metadata": {},
          "output_type": "display_data"
        }
      ],
      "source": [
        "import matplotlib.pyplot as plt\n",
        "import matplotlib as mpl\n",
        "\n",
        "age_fare = df.dropna(subset=['Age_random', 'Fare'])\n",
        "\n",
        "# Creating the scatter plot\n",
        "plt.figure(figsize=(10, 8))\n",
        "sc = plt.scatter(age_fare['Age_random'], age_fare['Fare'], c=age_fare['Fare'],\n",
        "                 cmap='plasma', alpha=0.8)\n",
        "\n",
        "# Creating a colorbar\n",
        "cbar = plt.colorbar(sc)\n",
        "\n",
        "# Customizing colorbar\n",
        "cbar.set_label('Fare', rotation=270, labelpad=20)\n",
        "cbar.ax.tick_params(labelsize=10) \n",
        "\n",
        "plt.title('Age vs Fare in Titanic dataset', fontsize=14)\n",
        "plt.xlabel('Age', fontsize=12)\n",
        "plt.ylabel('Fare', fontsize=12)\n",
        "plt.grid(True)\n",
        "plt.show()\n"
      ]
    },
    {
      "cell_type": "code",
      "execution_count": null,
      "metadata": {
        "cell_id": "c63989cc263841bd8fa1f6fa293078ad",
        "deepnote_cell_type": "code",
        "deepnote_to_be_reexecuted": false,
        "execution_millis": 2,
        "execution_start": 1685375164440,
        "id": "L1-TfKn7esKm",
        "source_hash": "b623e53d",
        "tags": []
      },
      "outputs": [],
      "source": []
    },
    {
      "cell_type": "markdown",
      "metadata": {
        "cell_id": "2fa24320c1dc489195534cc8cd4e8bdc",
        "deepnote_cell_type": "markdown",
        "id": "1aF2aHRwesKm",
        "tags": []
      },
      "source": [
        "## Set 4 (First_Name Last_Name)"
      ]
    },
    {
      "cell_type": "markdown",
      "metadata": {
        "cell_id": "1b2cb19f02bc47c2bfcabb7afb06484c",
        "deepnote_cell_type": "markdown",
        "id": "OFqdgASResKn",
        "tags": []
      },
      "source": [
        "1. Import BsmtQual, FireplaceQu, and GarageType variables from loan.csv in a dataframe. Confirm and report the percentage of missing values in each of the variables. Perform the following tasks on the dataframe.\n",
        "a. In the variables BsmtQual and GarageType, replace the missing values with the most frequently occuring label in the respective variables.\n",
        "a. In the variable FireplaceQu, replace the missing values with the least frequently occuring label in the variable."
      ]
    },
    {
      "cell_type": "code",
      "execution_count": 14,
      "metadata": {
        "cell_id": "059ed0c264e84aea9cb8c4d241678a5f",
        "colab": {
          "base_uri": "https://localhost:8080/",
          "height": 206
        },
        "deepnote_cell_type": "code",
        "deepnote_to_be_reexecuted": false,
        "execution_millis": 100,
        "execution_start": 1685375164441,
        "id": "Kowr1pkhesKn",
        "outputId": "61f32dd4-2459-4bcc-f4c4-6fa351168193",
        "source_hash": "ad28b438",
        "tags": []
      },
      "outputs": [
        {
          "data": {
            "text/html": [
              "<div>\n",
              "<style scoped>\n",
              "    .dataframe tbody tr th:only-of-type {\n",
              "        vertical-align: middle;\n",
              "    }\n",
              "\n",
              "    .dataframe tbody tr th {\n",
              "        vertical-align: top;\n",
              "    }\n",
              "\n",
              "    .dataframe thead th {\n",
              "        text-align: right;\n",
              "    }\n",
              "</style>\n",
              "<table border=\"1\" class=\"dataframe\">\n",
              "  <thead>\n",
              "    <tr style=\"text-align: right;\">\n",
              "      <th></th>\n",
              "      <th>BsmtQual</th>\n",
              "      <th>FireplaceQu</th>\n",
              "      <th>GarageType</th>\n",
              "    </tr>\n",
              "  </thead>\n",
              "  <tbody>\n",
              "    <tr>\n",
              "      <th>0</th>\n",
              "      <td>Gd</td>\n",
              "      <td>NaN</td>\n",
              "      <td>Attchd</td>\n",
              "    </tr>\n",
              "    <tr>\n",
              "      <th>1</th>\n",
              "      <td>Gd</td>\n",
              "      <td>TA</td>\n",
              "      <td>Attchd</td>\n",
              "    </tr>\n",
              "    <tr>\n",
              "      <th>2</th>\n",
              "      <td>Gd</td>\n",
              "      <td>TA</td>\n",
              "      <td>Attchd</td>\n",
              "    </tr>\n",
              "    <tr>\n",
              "      <th>3</th>\n",
              "      <td>TA</td>\n",
              "      <td>Gd</td>\n",
              "      <td>Detchd</td>\n",
              "    </tr>\n",
              "    <tr>\n",
              "      <th>4</th>\n",
              "      <td>Gd</td>\n",
              "      <td>TA</td>\n",
              "      <td>Attchd</td>\n",
              "    </tr>\n",
              "  </tbody>\n",
              "</table>\n",
              "</div>"
            ],
            "text/plain": [
              "  BsmtQual FireplaceQu GarageType\n",
              "0       Gd         NaN     Attchd\n",
              "1       Gd          TA     Attchd\n",
              "2       Gd          TA     Attchd\n",
              "3       TA          Gd     Detchd\n",
              "4       Gd          TA     Attchd"
            ]
          },
          "execution_count": 14,
          "metadata": {},
          "output_type": "execute_result"
        }
      ],
      "source": [
        "import pandas as pd\n",
        "df = pd.read_csv('https://raw.githubusercontent.com/dearbharat/datasets/main/loan.csv', usecols=['BsmtQual', 'FireplaceQu', 'GarageType'])\n",
        "df.head()"
      ]
    },
    {
      "cell_type": "code",
      "execution_count": 15,
      "metadata": {
        "cell_id": "9fddc169b80545e59b5f63fd45eab65e",
        "colab": {
          "base_uri": "https://localhost:8080/"
        },
        "deepnote_cell_type": "code",
        "deepnote_to_be_reexecuted": false,
        "execution_millis": 4,
        "execution_start": 1685375164586,
        "id": "5F0o8k96esKo",
        "outputId": "7d448510-9eae-484d-d640-86e99b4b3682",
        "source_hash": "bcda7416",
        "tags": []
      },
      "outputs": [
        {
          "data": {
            "text/plain": [
              "BsmtQual       0.025342\n",
              "FireplaceQu    0.472603\n",
              "GarageType     0.055479\n",
              "dtype: float64"
            ]
          },
          "execution_count": 15,
          "metadata": {},
          "output_type": "execute_result"
        }
      ],
      "source": [
        "df.isnull().sum()/len(df)"
      ]
    },
    {
      "cell_type": "markdown",
      "metadata": {
        "cell_id": "7d5bd0275a2d45d4b842eeca38802c49",
        "deepnote_cell_type": "markdown",
        "id": "NPOLfaNEesKo",
        "tags": []
      },
      "source": [
        "2. Master the [Structured Array](https://jakevdp.github.io/PythonDataScienceHandbook/02.09-structured-data-numpy.html) by replicating the numpy array operations here.\n"
      ]
    },
    {
      "cell_type": "code",
      "execution_count": null,
      "metadata": {
        "cell_id": "09f215555c694784954a4d01702b3fb1",
        "deepnote_cell_type": "code",
        "deepnote_to_be_reexecuted": false,
        "execution_millis": 4,
        "execution_start": 1685375164587,
        "id": "C1Kq-GJsesKo",
        "source_hash": "b623e53d",
        "tags": []
      },
      "outputs": [],
      "source": []
    },
    {
      "cell_type": "markdown",
      "metadata": {
        "cell_id": "1d19cc37bc61446c8282489b2561d82b",
        "deepnote_cell_type": "markdown",
        "id": "MbRMp0duesKo",
        "tags": []
      },
      "source": [
        "3. Master the [Histograms and Binnings](https://jakevdp.github.io/PythonDataScienceHandbook/04.05-histograms-and-binnings.html) by replicating the plots here."
      ]
    },
    {
      "cell_type": "code",
      "execution_count": null,
      "metadata": {
        "cell_id": "331849c834ea414a9bec073024b7a78d",
        "deepnote_cell_type": "code",
        "deepnote_to_be_reexecuted": false,
        "execution_millis": 3,
        "execution_start": 1685375164588,
        "id": "9Uq8eHwZesKp",
        "source_hash": "b623e53d",
        "tags": []
      },
      "outputs": [],
      "source": []
    },
    {
      "cell_type": "markdown",
      "metadata": {
        "cell_id": "83467c8c9df84909945e7dca68923ff5",
        "deepnote_cell_type": "markdown",
        "id": "bsma_f4sesKq",
        "tags": []
      },
      "source": [
        "4. Master the [Customizing Plot Legends](https://jakevdp.github.io/PythonDataScienceHandbook/04.06-customizing-legends.html) by replicating the plots here."
      ]
    },
    {
      "cell_type": "code",
      "execution_count": null,
      "metadata": {
        "cell_id": "dfc918e9adb74db89a6cb9cfc6af13dd",
        "deepnote_cell_type": "code",
        "deepnote_to_be_reexecuted": false,
        "execution_millis": 4,
        "execution_start": 1685375164589,
        "id": "_VElCJEtesKq",
        "source_hash": "b623e53d",
        "tags": []
      },
      "outputs": [],
      "source": []
    },
    {
      "cell_type": "markdown",
      "metadata": {
        "created_in_deepnote_cell": true,
        "deepnote_cell_type": "markdown",
        "id": "OopmoUHpesKr"
      },
      "source": [
        "<a style='text-decoration:none;line-height:16px;display:flex;color:#5B5B62;padding:10px;justify-content:end;' href='https://deepnote.com?utm_source=created-in-deepnote-cell&projectId=0396bd3d-5050-4c7c-9066-8077dbb9bdc2' target=\"_blank\">\n",
        "<img alt='Created in deepnote.com' style='display:inline;max-height:16px;margin:0px;margin-right:7.5px;' src='data:image/svg+xml;base64,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' > </img>\n",
        "Created in <span style='font-weight:600;margin-left:4px;'>Deepnote</span></a>"
      ]
    }
  ],
  "metadata": {
    "colab": {
      "include_colab_link": true,
      "provenance": []
    },
    "deepnote": {},
    "deepnote_execution_queue": [],
    "deepnote_notebook_id": "c169384195d343bca8aa11f6ce0f43a2",
    "deepnote_persisted_session": {
      "createdAt": "2023-05-29T16:16:15.522Z"
    },
    "kernelspec": {
      "display_name": "Python 3",
      "name": "python3"
    },
    "language_info": {
      "codemirror_mode": {
        "name": "ipython",
        "version": 3
      },
      "file_extension": ".py",
      "mimetype": "text/x-python",
      "name": "python",
      "nbconvert_exporter": "python",
      "pygments_lexer": "ipython3",
      "version": "3.9.13"
    },
    "orig_nbformat": 2
  },
  "nbformat": 4,
  "nbformat_minor": 0
}
