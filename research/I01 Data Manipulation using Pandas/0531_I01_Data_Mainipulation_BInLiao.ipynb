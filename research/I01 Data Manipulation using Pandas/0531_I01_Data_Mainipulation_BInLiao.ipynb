{
 "cells": [
  {
   "attachments": {},
   "cell_type": "markdown",
   "metadata": {},
   "source": [
    "<img src = \"https://miro.medium.com/v2/resize:fit:4800/format:webp/1*kK49KzkYEUYbFjVXrAEJxQ.jpeg\" alt=\"Titanic Data Manipulation\" width = \"800\" >\n",
    "\n",
    "# I01 Data Manipulation using Pandas\n",
    "** Bin Liao - bin.liao@unb.ca **\n",
    "\n",
    "## Dataset Description:\n",
    "For this assignment, I have chosen the [\"Titanic: Machine Learning from Disaster\"](https://www.kaggle.com/competitions/titanic) dataset from Kaggle. The dataset contains information about passengers on the Titanic, including their survival status, demographic information, cabin details, and ticket information. It fulfills the requirement of having at least three of the five dtypes: float, int, datetime, bool, and object."
   ]
  },
  {
   "cell_type": "code",
   "execution_count": 1,
   "metadata": {},
   "outputs": [],
   "source": [
    "import pandas as pd\n"
   ]
  },
  {
   "cell_type": "code",
   "execution_count": null,
   "metadata": {},
   "outputs": [],
   "source": []
  }
 ],
 "metadata": {
  "kernelspec": {
   "display_name": "base",
   "language": "python",
   "name": "python3"
  },
  "language_info": {
   "codemirror_mode": {
    "name": "ipython",
    "version": 3
   },
   "file_extension": ".py",
   "mimetype": "text/x-python",
   "name": "python",
   "nbconvert_exporter": "python",
   "pygments_lexer": "ipython3",
   "version": "3.9.13"
  },
  "orig_nbformat": 4
 },
 "nbformat": 4,
 "nbformat_minor": 2
}
