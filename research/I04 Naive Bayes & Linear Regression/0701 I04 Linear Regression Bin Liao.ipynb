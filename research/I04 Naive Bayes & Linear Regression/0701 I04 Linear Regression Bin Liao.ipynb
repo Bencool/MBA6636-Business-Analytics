{
 "cells": [
  {
   "attachments": {},
   "cell_type": "markdown",
   "metadata": {},
   "source": [
    "# 0701 I04 Linear Regression - Bin Liao\n",
    "\n",
    "## Project Overview\n",
    "\n",
    "The primary objective of this project is to build and hone data science skills, specifically in the areas of data loading, exploratory data analysis (EDA), and regression modeling. We will be using the popular 'Medical Cost Personal Dataset' from Kaggle to conduct this exercise.\n",
    "\n",
    "In this project, we will:\n",
    "\n",
    "- Load the data from a GitHub repository.\n",
    "- Check the data types and add any missing types as necessary.\n",
    "- Perform exploratory data analysis to understand the data better.\n",
    "- Formulate a business question and answer it using a regression model.\n",
    "- Validate the model using appropriate metrics.\n",
    "- Visualize the data to gain and share insights.\n",
    "\n",
    "## Dataset Overview - Medical Cost Personal Dataset\n",
    "\n",
    "The dataset we are using for this project originates from Kaggle's 'Medical Cost Personal Dataset'. This dataset provides a rich collection of data representing individual medical costs billed by health insurance. \n",
    "\n",
    "The dataset features the following attributes:\n",
    "\n",
    "- **age**: The age of the primary beneficiary.\n",
    "- **sex**: The gender of the primary beneficiary - male or female.\n",
    "- **bmi**: The body mass index (BMI), which provides an understanding of body weight based on a person's height and weight. \n",
    "- **children**: The number of children covered by health insurance / the number of dependents.\n",
    "- **smoker**: Indicates whether the beneficiary is a smoker or not.\n",
    "- **region**: The beneficiary's residential area in the US - northeast, southeast, southwest, or northwest.\n",
    "- **charges**: Individual medical costs billed by health insurance.\n",
    "\n",
    "With the help of this dataset, we will predict medical insurance charges based on features such as age, BMI, and the number of children. This is a practical and common use case in the healthcare sector, where understanding the factors influencing insurance charges can be essential to various stakeholders.\n"
   ]
  },
  {
   "attachments": {},
   "cell_type": "markdown",
   "metadata": {},
   "source": [
    "## Project Initialzation and Data Loading\n",
    "\n",
    "In this initial task, we set up our Python environment by importing the necessary libraries for data manipulation, exploration, modeling, and visualization. We then load our chosen dataset, 'Medical Cost Personal Dataset', directly from a GitHub repository into a pandas DataFrame."
   ]
  },
  {
   "cell_type": "code",
   "execution_count": null,
   "metadata": {},
   "outputs": [],
   "source": [
    "import pandas as pd\n",
    "import numpy as np\n",
    "from sklearn.model_selection import train_test_split\n",
    "from sklearn.linear_model import LinearRegression\n",
    "from sklearn import metrics\n",
    "import matplotlib.pyplot as plt\n",
    "import seaborn as sns\n",
    "import datetime\n",
    "\n",
    "# If the data file are not exist, download it from the given url.\n",
    "def download_and_load_data(file_name, url):\n",
    "    data_dir = 'data'\n",
    "    file_path = os.path.join(data_dir, file_name)\n",
    "\n",
    "    # Check if the data file exists\n",
    "    if not os.path.isfile(file_path):\n",
    "        # If not, check if the data directory exists\n",
    "        if not os.path.isdir(data_dir):\n",
    "            # If not, create the data directory\n",
    "            os.makedirs(data_dir)\n",
    "        \n",
    "        # Download the data file\n",
    "        print(f'Downloading file from {url} ...')\n",
    "        !wget -O {file_path} {url}\n",
    "        print(f'File downloaded and saved to {file_path}')\n",
    "\n",
    "    # Load data into a dataframe.\n",
    "    df = pd.read_csv(file_path)\n",
    "    return df\n",
    "\n",
    "\n"
   ]
  },
  {
   "cell_type": "markdown",
   "metadata": {},
   "source": []
  }
 ],
 "metadata": {
  "kernelspec": {
   "display_name": "base",
   "language": "python",
   "name": "python3"
  },
  "language_info": {
   "name": "python",
   "version": "3.9.13"
  },
  "orig_nbformat": 4
 },
 "nbformat": 4,
 "nbformat_minor": 2
}
